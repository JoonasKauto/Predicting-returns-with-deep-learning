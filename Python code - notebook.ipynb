{
 "cells": [
  {
   "cell_type": "markdown",
   "metadata": {},
   "source": [
    "# Financial Econometrics Project\n",
    "Author: Joonas Kauto\n",
    "SCIPER: 349328"
   ]
  },
  {
   "cell_type": "code",
   "execution_count": 1,
   "metadata": {},
   "outputs": [],
   "source": [
    "# External libraries\n",
    "import pandas as pd\n",
    "import numpy as np\n",
    "import os\n",
    "import matplotlib.pyplot as plt\n",
    "import tensorflow\n",
    "from keras import models\n",
    "from keras import layers\n",
    "from sklearn.preprocessing import StandardScaler  \n",
    "import scipy.stats as stats\n",
    "import math\n"
   ]
  },
  {
   "cell_type": "markdown",
   "metadata": {},
   "source": [
    "## Data extraction and preparation"
   ]
  },
  {
   "cell_type": "code",
   "execution_count": 9,
   "metadata": {},
   "outputs": [],
   "source": [
    "# Let's bring in the data!\n",
    "df_load = pd.read_csv('stock_prices.csv')"
   ]
  },
  {
   "cell_type": "code",
   "execution_count": 10,
   "metadata": {},
   "outputs": [],
   "source": [
    "# Let's copy it to different dataframe -  if we have problems we dont need to load the data again from the source.\n",
    "df = df_load.copy()\n"
   ]
  },
  {
   "cell_type": "code",
   "execution_count": 11,
   "metadata": {},
   "outputs": [],
   "source": [
    "# Make the date column to datetime.\n",
    "df['Date'] = pd.to_datetime(df['Date'])\n",
    "\n",
    "# Filter out companies who are going to be delisted during the timeperiod:\n",
    "delisted_companies = df[df['SupervisionFlag'] == True]['SecuritiesCode'].unique()\n",
    "df = df[~df['SecuritiesCode'].isin(delisted_companies)]"
   ]
  },
  {
   "cell_type": "code",
   "execution_count": 12,
   "metadata": {},
   "outputs": [
    {
     "data": {
      "text/html": [
       "<div>\n",
       "<style scoped>\n",
       "    .dataframe tbody tr th:only-of-type {\n",
       "        vertical-align: middle;\n",
       "    }\n",
       "\n",
       "    .dataframe tbody tr th {\n",
       "        vertical-align: top;\n",
       "    }\n",
       "\n",
       "    .dataframe thead th {\n",
       "        text-align: right;\n",
       "    }\n",
       "</style>\n",
       "<table border=\"1\" class=\"dataframe\">\n",
       "  <thead>\n",
       "    <tr style=\"text-align: right;\">\n",
       "      <th></th>\n",
       "      <th>RowId</th>\n",
       "      <th>Date</th>\n",
       "      <th>SecuritiesCode</th>\n",
       "      <th>Open</th>\n",
       "      <th>High</th>\n",
       "      <th>Low</th>\n",
       "      <th>Close</th>\n",
       "      <th>Volume</th>\n",
       "    </tr>\n",
       "  </thead>\n",
       "  <tbody>\n",
       "    <tr>\n",
       "      <th>0</th>\n",
       "      <td>20170104_1301</td>\n",
       "      <td>2017-01-04</td>\n",
       "      <td>1301</td>\n",
       "      <td>2734.0</td>\n",
       "      <td>2755.0</td>\n",
       "      <td>2730.0</td>\n",
       "      <td>2742.0</td>\n",
       "      <td>31400</td>\n",
       "    </tr>\n",
       "    <tr>\n",
       "      <th>1</th>\n",
       "      <td>20170104_1332</td>\n",
       "      <td>2017-01-04</td>\n",
       "      <td>1332</td>\n",
       "      <td>568.0</td>\n",
       "      <td>576.0</td>\n",
       "      <td>563.0</td>\n",
       "      <td>571.0</td>\n",
       "      <td>2798500</td>\n",
       "    </tr>\n",
       "    <tr>\n",
       "      <th>2</th>\n",
       "      <td>20170104_1333</td>\n",
       "      <td>2017-01-04</td>\n",
       "      <td>1333</td>\n",
       "      <td>3150.0</td>\n",
       "      <td>3210.0</td>\n",
       "      <td>3140.0</td>\n",
       "      <td>3210.0</td>\n",
       "      <td>270800</td>\n",
       "    </tr>\n",
       "    <tr>\n",
       "      <th>3</th>\n",
       "      <td>20170104_1376</td>\n",
       "      <td>2017-01-04</td>\n",
       "      <td>1376</td>\n",
       "      <td>1510.0</td>\n",
       "      <td>1550.0</td>\n",
       "      <td>1510.0</td>\n",
       "      <td>1550.0</td>\n",
       "      <td>11300</td>\n",
       "    </tr>\n",
       "    <tr>\n",
       "      <th>4</th>\n",
       "      <td>20170104_1377</td>\n",
       "      <td>2017-01-04</td>\n",
       "      <td>1377</td>\n",
       "      <td>3270.0</td>\n",
       "      <td>3350.0</td>\n",
       "      <td>3270.0</td>\n",
       "      <td>3330.0</td>\n",
       "      <td>150800</td>\n",
       "    </tr>\n",
       "    <tr>\n",
       "      <th>...</th>\n",
       "      <td>...</td>\n",
       "      <td>...</td>\n",
       "      <td>...</td>\n",
       "      <td>...</td>\n",
       "      <td>...</td>\n",
       "      <td>...</td>\n",
       "      <td>...</td>\n",
       "      <td>...</td>\n",
       "    </tr>\n",
       "    <tr>\n",
       "      <th>2332526</th>\n",
       "      <td>20211203_9990</td>\n",
       "      <td>2021-12-03</td>\n",
       "      <td>9990</td>\n",
       "      <td>514.0</td>\n",
       "      <td>528.0</td>\n",
       "      <td>513.0</td>\n",
       "      <td>528.0</td>\n",
       "      <td>44200</td>\n",
       "    </tr>\n",
       "    <tr>\n",
       "      <th>2332527</th>\n",
       "      <td>20211203_9991</td>\n",
       "      <td>2021-12-03</td>\n",
       "      <td>9991</td>\n",
       "      <td>782.0</td>\n",
       "      <td>794.0</td>\n",
       "      <td>782.0</td>\n",
       "      <td>794.0</td>\n",
       "      <td>35900</td>\n",
       "    </tr>\n",
       "    <tr>\n",
       "      <th>2332528</th>\n",
       "      <td>20211203_9993</td>\n",
       "      <td>2021-12-03</td>\n",
       "      <td>9993</td>\n",
       "      <td>1690.0</td>\n",
       "      <td>1690.0</td>\n",
       "      <td>1645.0</td>\n",
       "      <td>1645.0</td>\n",
       "      <td>7200</td>\n",
       "    </tr>\n",
       "    <tr>\n",
       "      <th>2332529</th>\n",
       "      <td>20211203_9994</td>\n",
       "      <td>2021-12-03</td>\n",
       "      <td>9994</td>\n",
       "      <td>2388.0</td>\n",
       "      <td>2396.0</td>\n",
       "      <td>2380.0</td>\n",
       "      <td>2389.0</td>\n",
       "      <td>6500</td>\n",
       "    </tr>\n",
       "    <tr>\n",
       "      <th>2332530</th>\n",
       "      <td>20211203_9997</td>\n",
       "      <td>2021-12-03</td>\n",
       "      <td>9997</td>\n",
       "      <td>690.0</td>\n",
       "      <td>711.0</td>\n",
       "      <td>686.0</td>\n",
       "      <td>696.0</td>\n",
       "      <td>381100</td>\n",
       "    </tr>\n",
       "  </tbody>\n",
       "</table>\n",
       "<p>2314501 rows × 8 columns</p>\n",
       "</div>"
      ],
      "text/plain": [
       "                 RowId       Date  SecuritiesCode    Open    High     Low  \\\n",
       "0        20170104_1301 2017-01-04            1301  2734.0  2755.0  2730.0   \n",
       "1        20170104_1332 2017-01-04            1332   568.0   576.0   563.0   \n",
       "2        20170104_1333 2017-01-04            1333  3150.0  3210.0  3140.0   \n",
       "3        20170104_1376 2017-01-04            1376  1510.0  1550.0  1510.0   \n",
       "4        20170104_1377 2017-01-04            1377  3270.0  3350.0  3270.0   \n",
       "...                ...        ...             ...     ...     ...     ...   \n",
       "2332526  20211203_9990 2021-12-03            9990   514.0   528.0   513.0   \n",
       "2332527  20211203_9991 2021-12-03            9991   782.0   794.0   782.0   \n",
       "2332528  20211203_9993 2021-12-03            9993  1690.0  1690.0  1645.0   \n",
       "2332529  20211203_9994 2021-12-03            9994  2388.0  2396.0  2380.0   \n",
       "2332530  20211203_9997 2021-12-03            9997   690.0   711.0   686.0   \n",
       "\n",
       "          Close   Volume  \n",
       "0        2742.0    31400  \n",
       "1         571.0  2798500  \n",
       "2        3210.0   270800  \n",
       "3        1550.0    11300  \n",
       "4        3330.0   150800  \n",
       "...         ...      ...  \n",
       "2332526   528.0    44200  \n",
       "2332527   794.0    35900  \n",
       "2332528  1645.0     7200  \n",
       "2332529  2389.0     6500  \n",
       "2332530   696.0   381100  \n",
       "\n",
       "[2314501 rows x 8 columns]"
      ]
     },
     "execution_count": 12,
     "metadata": {},
     "output_type": "execute_result"
    }
   ],
   "source": [
    "# Filter out columns that are not needed\n",
    "columns_to_keep = ['RowId',\t'Date',\t'SecuritiesCode', 'Open', 'High', 'Low', 'Close', 'Volume']\n",
    "df = df[columns_to_keep]\n",
    "df"
   ]
  },
  {
   "cell_type": "code",
   "execution_count": 13,
   "metadata": {},
   "outputs": [
    {
     "name": "stdout",
     "output_type": "stream",
     "text": [
      "We have 1985 Different securities!\n"
     ]
    }
   ],
   "source": [
    "# Number of companies at this point\n",
    "len_check_1 = len(df.SecuritiesCode.unique())\n",
    "print(\"We have\", len_check_1, \"Different securities!\")"
   ]
  },
  {
   "cell_type": "code",
   "execution_count": 14,
   "metadata": {},
   "outputs": [],
   "source": [
    "# Now lets develop features into our training data\n",
    "# As you can see, these are derived from past price data only.\n",
    "\n",
    "def feature_generation(df):\n",
    "\n",
    "    \"\"\"\n",
    "    PS = Has the stock price increased or decreased\n",
    "    PSY12 = Psychological line for 12 days (DUP12 / 12) * 100\n",
    "    DU12 = number of dates when price has gone up in 12 days before forecasting date\n",
    "    \n",
    "    MA5 = 5 days moving average\n",
    "    MA10 = 10 days moving average\n",
    "    MA20 = 20 days moving average\n",
    "    OS6 = 6 day return\n",
    "    OS12 = 12 day return\n",
    "    MTM6 = difference between 6 day closing value\n",
    "    MTM12 = difference between 12 day closing value\n",
    "    ASY5 = average stock yield of 5 days before the forecasting day\n",
    "    ASY4 = average stock yield of 4 days before the forecasting day\n",
    "    ASY3 = average stock yield of 3 days before the forecasting day\n",
    "    ASY2 = average stock yield of 2 days before the forecasting day\n",
    "    ASY1 = average stock yield of 1 days before the forecasting day\n",
    "    CL3 = Closing price of 3 days before forecasting date\n",
    "    CL2 = Closing price of 3 days before forecasting date\n",
    "    CL1 = Closing price of 3 days before forecasting date\n",
    "    VOL20_price = Closing price's standard deviation from 20 days\n",
    "    df_i['BOL_UPPER'] = (df_i['Close'] - (df_i['MA20'] + df_i['VOL20_price']*2)) / (df_i['MA20'] + df_i['VOL20_price']*2)\n",
    "    df_i['BOL_LOWER'] = (df_i['Close'] - (df_i['MA20'] - df_i['VOL20_price']*2)) / (df_i['MA20'] - df_i['VOL20_price']*2)\n",
    "    \"\"\"\n",
    "    # The growth during one trading day\n",
    "    df['DayReturn'] = (df['Close'] - df['Open'])/df['Open']\n",
    "    \n",
    "    def psychological_effect(r):\n",
    "        if r >= 0:\n",
    "            return 1\n",
    "        else:\n",
    "            return 0\n",
    "        \n",
    "    df['PS'] = df.apply(lambda x: psychological_effect(x['DayReturn']),axis=1)\n",
    "\n",
    "    df_temp = pd.DataFrame()\n",
    "\n",
    "    check_time = len(df.SecuritiesCode.unique())\n",
    "    timer = 0\n",
    "    for security in df.SecuritiesCode.unique():\n",
    "        \n",
    "        # Let's look at the data security at time\n",
    "        df_i = df[df['SecuritiesCode'] == security]\n",
    "        df_i = df_i.sort_values(by=\"Date\")\n",
    "\n",
    "        # moving averages\n",
    "        df_i['MA5'] = df_i['Close'].rolling(5).mean()\n",
    "        df_i['MA10'] = df_i['Close'].rolling(10).mean()\n",
    "        df_i['MA20'] = df_i['Close'].rolling(20).mean()\n",
    "\n",
    "        # Bias\n",
    "\n",
    "        df_i['BIAS5'] = (df_i['Close'] - df_i['MA5']) / df_i['MA5']\n",
    "\n",
    "\n",
    "        # The psychology factor\n",
    "        df_i['PS12'] = df_i['PS'].rolling(12).mean()\n",
    "\n",
    "        # Closing values, used in calculations\n",
    "        closing_values = df_i['Close'].values\n",
    "\n",
    "        # Target variable is the (Close price (t+1) - Close price(t)) / Close price (t)\n",
    "        target = (closing_values[1:] - closing_values[:-1]) / closing_values[:-1]\n",
    "        target = np.append(target, np.nan)\n",
    "\n",
    "        df_i['TargetVariable'] = target\n",
    "\n",
    "        # Oscillation values AKA differences between prices\n",
    "        helper = np.array([np.nan,np.nan,np.nan,np.nan,np.nan,np.nan])\n",
    "        big_helper = np.array([np.nan,np.nan,np.nan,np.nan,np.nan,np.nan, np.nan,np.nan,np.nan,np.nan,np.nan,np.nan])\n",
    "        OSC6 = closing_values[6:] / closing_values[:-6]\n",
    "        OSC12 = closing_values[12:] / closing_values[:-12]\n",
    "        OSC6 = np.append(helper, OSC6)\n",
    "        OSC12 = np.append(big_helper, OSC12)\n",
    "        df_i['OSC6'] = OSC6\n",
    "        df_i['OSC12'] = OSC12\n",
    "\n",
    "\n",
    "        # Momentum\n",
    "        MTM6 = closing_values[6:] - closing_values[:-6]\n",
    "        MTM12 = closing_values[12:] - closing_values[:-12]\n",
    "\n",
    "        MTM6 = np.append(helper, MTM6)\n",
    "        MTM12 = np.append(big_helper, MTM12)\n",
    "        df_i['MTM6'] = MTM6\n",
    "        df_i['MTM12'] = MTM12\n",
    "\n",
    "        # Yields\n",
    "        ASY1 = (closing_values[1:] - closing_values[:-1]) / closing_values[:-1]\n",
    "        ASY1 = np.insert(ASY1, 0, np.nan)\n",
    "        df_i['ASY1'] = ASY1\n",
    "        df_i['ASY5'] = df_i['ASY1'].rolling(5).mean()\n",
    "        df_i['ASY4'] = df_i['ASY1'].rolling(4).mean()\n",
    "        df_i['ASY3'] = df_i['ASY1'].rolling(3).mean()\n",
    "        df_i['ASY2'] = df_i['ASY1'].rolling(2).mean()\n",
    "\n",
    "        # Volatilities\n",
    "        df_i['Vol5'] = df_i['ASY1'].rolling(5).std()\n",
    "        df_i['Vol10'] = df_i['ASY1'].rolling(10).std()\n",
    "        df_i['Vol20'] = df_i['ASY1'].rolling(20).std()\n",
    "\n",
    "        # Bollinger bands\n",
    "        df_i['VOL20_price'] = df_i['Close'].rolling(20).std()\n",
    "\n",
    "        df_i['BOL_UPPER'] = (df_i['Close'] - (df_i['MA20'] + df_i['VOL20_price']*2)) / (df_i['MA20'] + df_i['VOL20_price']*2)\n",
    "        df_i['BOL_LOWER'] = (df_i['Close'] - (df_i['MA20'] - df_i['VOL20_price']*2)) / (df_i['MA20'] - df_i['VOL20_price']*2)\n",
    "\n",
    "        if df_temp.empty:\n",
    "            df_temp = df_i\n",
    "        else:\n",
    "            df_temp = df_temp.append(df_i, ignore_index=True)\n",
    "    \n",
    "    return df_temp\n"
   ]
  },
  {
   "cell_type": "code",
   "execution_count": 15,
   "metadata": {},
   "outputs": [],
   "source": [
    "df_features = feature_generation(df)\n"
   ]
  },
  {
   "cell_type": "code",
   "execution_count": 16,
   "metadata": {},
   "outputs": [
    {
     "name": "stdout",
     "output_type": "stream",
     "text": [
      "This should be zero: 0\n"
     ]
    }
   ],
   "source": [
    "# Number of companies at this point\n",
    "len_check_2 = len(df_features.SecuritiesCode.unique())\n",
    "df_filled = df_features.dropna() # Dropnans\n",
    "len_check_3 = len(df_filled.SecuritiesCode.unique())\n",
    "\n",
    "# Sanity check\n",
    "print(\"This should be zero:\", len_check_2- len_check_3)"
   ]
  },
  {
   "cell_type": "code",
   "execution_count": 17,
   "metadata": {},
   "outputs": [
    {
     "name": "stdout",
     "output_type": "stream",
     "text": [
      "After the day index of 812 which is 2020-06-03T00:00:00.000000000  is the test data.\n"
     ]
    }
   ],
   "source": [
    "# Let's decide the date split\n",
    "N_dates = len(df_filled.Date.unique())\n",
    "n_after_test = int(np.floor(1161 * 0.7))\n",
    "dates_ = df_filled.Date.unique()\n",
    "print(\"After the day index of\", n_after_test, \"which is\", dates_[int(n_after_test)], \" is the test data.\")"
   ]
  },
  {
   "cell_type": "code",
   "execution_count": 19,
   "metadata": {},
   "outputs": [],
   "source": [
    "# Split the data for the neural network training and testing\n",
    "df_ = df_filled.copy()\n",
    "df_ = df_.sort_values(by=['Date'])\n",
    "df_train = df_.head(n_after_test*len_check_3)\n",
    "df_test = df_.tail((len(dates_) - n_after_test)*len_check_3)"
   ]
  },
  {
   "attachments": {},
   "cell_type": "markdown",
   "metadata": {},
   "source": [
    "# Data analysis"
   ]
  },
  {
   "cell_type": "code",
   "execution_count": 20,
   "metadata": {},
   "outputs": [],
   "source": [
    "# Group data\n",
    "df_grouped = df_train.groupby(['Date']).mean()"
   ]
  },
  {
   "cell_type": "code",
   "execution_count": 21,
   "metadata": {},
   "outputs": [
    {
     "data": {
      "image/png": "[encoded data removed]",
      "text/plain": [
       "<Figure size 432x288 with 1 Axes>"
      ]
     },
     "metadata": {
      "needs_background": "light"
     },
     "output_type": "display_data"
    },
    {
     "data": {
      "image/png": "[encoded data removed]",
      "text/plain": [
       "<Figure size 432x288 with 1 Axes>"
      ]
     },
     "metadata": {
      "needs_background": "light"
     },
     "output_type": "display_data"
    }
   ],
   "source": [
    "# plot average daily return and average daily close price\n",
    "fig, ax = plt.subplots()\n",
    "ax.plot(df_grouped.index, df_grouped['ASY1'])\n",
    "\n",
    "ax.set(xlabel='Time', ylabel='Return',\n",
    "       title='Average Daily Return')\n",
    "ax.grid()\n",
    "plt.show()\n",
    "\n",
    "fig, ax = plt.subplots()\n",
    "ax.plot(df_grouped.index, df_grouped['Close'])\n",
    "\n",
    "ax.set(xlabel='Time', ylabel='Close Price (Jen)',\n",
    "       title='Average Close Price')\n",
    "ax.grid()\n",
    "plt.show()\n",
    "\n"
   ]
  },
  {
   "cell_type": "code",
   "execution_count": 22,
   "metadata": {},
   "outputs": [
    {
     "data": {
      "image/png": "[encoded data removed]",
      "text/plain": [
       "<Figure size 432x288 with 1 Axes>"
      ]
     },
     "metadata": {
      "needs_background": "light"
     },
     "output_type": "display_data"
    }
   ],
   "source": [
    "\n",
    "# plot distribution of the daily returns\n",
    "fig, ax = plt.subplots()\n",
    "mu = df_train['ASY1'].mean()\n",
    "sigma =  df_train['ASY1'].std()\n",
    "x = np.linspace(mu - 3*sigma, mu + 3*sigma, 100)\n",
    "ax.plot(x, stats.norm.pdf(x, mu, sigma))\n",
    "ax.set(xlabel='Daily Return', ylabel='Density',\n",
    "       title='Distribution of Daily Returs')\n",
    "plt.show()\n",
    "\n"
   ]
  },
  {
   "cell_type": "code",
   "execution_count": 23,
   "metadata": {},
   "outputs": [],
   "source": [
    "# From here on grouped by security\n",
    "df__ = df_train[['Date', 'SecuritiesCode', 'Close', 'ASY1']]\n",
    "df_security_grouped_std = df__.groupby(['SecuritiesCode']).std()\n",
    "df_security_grouped_mean = df__.groupby(['SecuritiesCode']).mean()"
   ]
  },
  {
   "cell_type": "code",
   "execution_count": 25,
   "metadata": {},
   "outputs": [
    {
     "data": {
      "image/png": "[encoded data removed]",
      "text/plain": [
       "<Figure size 432x288 with 1 Axes>"
      ]
     },
     "metadata": {
      "needs_background": "light"
     },
     "output_type": "display_data"
    },
    {
     "data": {
      "image/png": "[encoded data removed]",
      "text/plain": [
       "<Figure size 432x288 with 1 Axes>"
      ]
     },
     "metadata": {
      "needs_background": "light"
     },
     "output_type": "display_data"
    },
    {
     "data": {
      "image/png": "[encoded data removed]",
      "text/plain": [
       "<Figure size 432x288 with 1 Axes>"
      ]
     },
     "metadata": {
      "needs_background": "light"
     },
     "output_type": "display_data"
    }
   ],
   "source": [
    "# print out return and volatility\n",
    "vols = df_security_grouped_std['ASY1']*np.sqrt(252)\n",
    "means_returns = df_security_grouped_mean['ASY1']*252\n",
    "fig, ax = plt.subplots()\n",
    "ax.scatter(vols,  means_returns)\n",
    "ax.set(xlabel='Annualized Volatility', ylabel='Annualized Daily Return',\n",
    "       title='Return and Volatility')\n",
    "plt.show()\n",
    "\n",
    "fig, ax = plt.subplots()\n",
    "ax.hist(means_returns, bins=1000)\n",
    "ax.set(xlabel='Annualized Return', ylabel='Frequency',\n",
    "       title='Annualized Return')\n",
    "plt.xlim(-1, 3)\n",
    "plt.show()\n",
    "\n",
    "fig, ax = plt.subplots()\n",
    "ax.hist(vols, bins=1000)\n",
    "ax.set(xlabel='Volatility', ylabel='Frequency',\n",
    "       title='Annualized Volatility')\n",
    "plt.xlim(0, 2)\n",
    "plt.show()\n"
   ]
  },
  {
   "cell_type": "code",
   "execution_count": 26,
   "metadata": {},
   "outputs": [
    {
     "name": "stdout",
     "output_type": "stream",
     "text": [
      "Mean one day return: 0.001036722283111171\n"
     ]
    }
   ],
   "source": [
    "# check the daily return mean\n",
    "print(\"Mean one day return:\", df_train['ASY1'].mean())\n"
   ]
  },
  {
   "cell_type": "markdown",
   "metadata": {},
   "source": [
    "### standardizing our features\n"
   ]
  },
  {
   "cell_type": "code",
   "execution_count": 27,
   "metadata": {},
   "outputs": [],
   "source": [
    "# Features to be standardized\n",
    "feature_columns = [ 'Open', 'High', 'Low', 'Close',\n",
    "       'Volume', 'DayReturn', 'PS', 'MA5', 'MA10', 'MA20', 'BIAS5',\n",
    "       'PS12', 'OSC6', 'OSC12', 'MTM6', 'MTM12', 'ASY1',\n",
    "       'ASY5', 'ASY4', 'ASY3', 'ASY2', 'Vol5', 'Vol10', 'Vol20', 'VOL20_price',\n",
    "       'BOL_UPPER', 'BOL_LOWER']\n",
    "\n",
    "# Split the data and filter out useless columns.\n",
    "test = df_test[feature_columns]\n",
    "train = df_train[feature_columns]\n",
    "Y_train = df_train[['TargetVariable']]\n",
    "Y_test = df_test[['TargetVariable']]"
   ]
  },
  {
   "cell_type": "code",
   "execution_count": 28,
   "metadata": {},
   "outputs": [],
   "source": [
    "# Lets standardize our parameters.\n",
    "from sklearn.preprocessing import StandardScaler  \n",
    "scaler = StandardScaler()  \n",
    "\n",
    "# Don't cheat - fit only on training data\n",
    "scaler.fit(train.dropna())  \n",
    "X_train = scaler.transform(train.dropna())  \n",
    "\n",
    "# apply same transformation to test data\n",
    "X_test = scaler.transform(test)  "
   ]
  },
  {
   "cell_type": "code",
   "execution_count": 29,
   "metadata": {},
   "outputs": [
    {
     "data": {
      "image/png": "[encoded data removed]",
      "text/plain": [
       "<Figure size 288x288 with 2 Axes>"
      ]
     },
     "metadata": {
      "needs_background": "light"
     },
     "output_type": "display_data"
    }
   ],
   "source": [
    "\n",
    "# print out Pearson's correlation heatmap\n",
    "def show_heatmap(data):\n",
    "    plt.matshow(data.corr())\n",
    "    plt.xticks(range(data.shape[1]), data.columns, fontsize=6, rotation=90)\n",
    "    plt.gca().xaxis.tick_bottom()\n",
    "    plt.yticks(range(data.shape[1]), data.columns, fontsize=6)\n",
    "\n",
    "    cb = plt.colorbar()\n",
    "    cb.ax.tick_params(labelsize=8)\n",
    "    plt.title(\"Feature Correlation Heatmap\", fontsize=10)\n",
    "    plt.show()\n",
    "\n",
    "\n",
    "show_heatmap(pd.DataFrame(X_train))"
   ]
  },
  {
   "cell_type": "markdown",
   "metadata": {},
   "source": [
    "# The actual model"
   ]
  },
  {
   "cell_type": "code",
   "execution_count": 30,
   "metadata": {},
   "outputs": [],
   "source": [
    "# A function used for measuring errors\n",
    "# We use mean average error and mean squared error\n",
    "def check_error_rates(Y_pred, Y_test):\n",
    "    mae = tensorflow.keras.losses.MeanAbsoluteError()\n",
    "    mse = tensorflow.keras.losses.MeanSquaredError()\n",
    "    mae_result = mae(Y_test, Y_pred).numpy()\n",
    "\n",
    "    mse_result = mse(Y_test, Y_pred).numpy()\n",
    "    \n",
    "    return(mse_result, mae_result)\n"
   ]
  },
  {
   "attachments": {},
   "cell_type": "markdown",
   "metadata": {},
   "source": [
    "## Deep neural network\n",
    "\n",
    "We are using a deep neural network with Tensorflow and keras.\n",
    "The focal model has been selected from related academic literature and based on some prior testing done by me on the dataset.\n",
    "The activation functions used are relu and we use 2 hidden layers with diminishing number of nodes. The model seems to converge after 1 epoch and based on the law of diminishing returns we do not see much of predictive performance development after it.\n",
    "\n",
    "The model runtime is approximately 40 minutes."
   ]
  },
  {
   "cell_type": "code",
   "execution_count": 31,
   "metadata": {},
   "outputs": [
    {
     "name": "stdout",
     "output_type": "stream",
     "text": [
      "Epoch 1/10\n",
      "84833/84833 [==============================] - 176s 2ms/step - loss: 0.0715 - val_loss: 0.0030\n",
      "Epoch 2/10\n",
      "84833/84833 [==============================] - 127s 1ms/step - loss: 0.0130 - val_loss: 0.0015\n",
      "Epoch 3/10\n",
      "84833/84833 [==============================] - 142s 2ms/step - loss: 0.0073 - val_loss: 0.0013\n",
      "Epoch 4/10\n",
      "84833/84833 [==============================] - 174s 2ms/step - loss: 0.0071 - val_loss: 0.0013\n",
      "Epoch 5/10\n",
      "84833/84833 [==============================] - 170s 2ms/step - loss: 0.0070 - val_loss: 0.0012\n",
      "Epoch 6/10\n",
      "84833/84833 [==============================] - 183s 2ms/step - loss: 0.0069 - val_loss: 0.0012\n",
      "Epoch 7/10\n",
      "84833/84833 [==============================] - 144s 2ms/step - loss: 0.0069 - val_loss: 0.0012\n",
      "Epoch 8/10\n",
      "84833/84833 [==============================] - 121s 1ms/step - loss: 0.0069 - val_loss: 0.0012\n",
      "Epoch 9/10\n",
      "84833/84833 [==============================] - 124s 1ms/step - loss: 0.0068 - val_loss: 0.0011\n",
      "Epoch 10/10\n",
      "84833/84833 [==============================] - 141s 2ms/step - loss: 0.0068 - val_loss: 0.0011\n"
     ]
    }
   ],
   "source": [
    "model = models.Sequential()\n",
    "model.add(layers.Dense(27, input_dim=27)) # input layer\n",
    "model.add(layers.Dense(14, activation='relu')) # first hidden layer\n",
    "model.add(layers.Dense(7, activation='relu')) # Second hidden layer\n",
    "model.add(layers.Dense(1)) # output layer\n",
    "\n",
    "# Compile model\n",
    "model.compile(optimizer=tensorflow.keras.optimizers.SGD(learning_rate=0.0001), loss='mean_squared_error')\n",
    "\n",
    "# Fit the mode\n",
    "history= model.fit(X_train, Y_train, validation_data=(X_test,Y_test), epochs=10, batch_size=19, verbose=True)"
   ]
  },
  {
   "cell_type": "code",
   "execution_count": 32,
   "metadata": {},
   "outputs": [
    {
     "name": "stdout",
     "output_type": "stream",
     "text": [
      "MSE: 0.001141027 MAE: 0.01750026\n"
     ]
    }
   ],
   "source": [
    "# Print out the test errors\n",
    "Y_pred = model.predict(X_test)\n",
    "mse_main, mae_main = check_error_rates(Y_pred, Y_test)\n",
    "print(\"MSE:\", mse_main, \"MAE:\", mae_main)"
   ]
  },
  {
   "cell_type": "code",
   "execution_count": 33,
   "metadata": {},
   "outputs": [
    {
     "data": {
      "text/plain": [
       "[<matplotlib.lines.Line2D at 0x10c30d7ca48>]"
      ]
     },
     "execution_count": 33,
     "metadata": {},
     "output_type": "execute_result"
    },
    {
     "data": {
      "image/png": "[encoded data removed]",
      "text/plain": [
       "<Figure size 432x288 with 1 Axes>"
      ]
     },
     "metadata": {
      "needs_background": "light"
     },
     "output_type": "display_data"
    }
   ],
   "source": [
    "# plot the model's performance per epoch\n",
    "plt.xlabel('Epoch Number')\n",
    "plt.ylabel(\"Loss Magnitude\")\n",
    "plt.plot(history.history['loss'])\n",
    "plt.plot(history.history['val_loss'])"
   ]
  },
  {
   "cell_type": "code",
   "execution_count": 34,
   "metadata": {},
   "outputs": [
    {
     "name": "stdout",
     "output_type": "stream",
     "text": [
      "This company's MSE: 0.0008310513\n"
     ]
    },
    {
     "data": {
      "image/png": "[encoded data removed]",
      "text/plain": [
       "<Figure size 432x288 with 1 Axes>"
      ]
     },
     "metadata": {
      "needs_background": "light"
     },
     "output_type": "display_data"
    }
   ],
   "source": [
    "# Let's plot of a randomly selected security's price development for the test period and our prediction of the price development.\n",
    "sec = df_test.SecuritiesCode.unique()[23] # Select a security\n",
    "df_plot_X = df_test[df_test['SecuritiesCode'] == sec][feature_columns] # dates used as a x-axis\n",
    "Y_test_plot = df_test[df_test['SecuritiesCode'] == sec]['TargetVariable'] # select the predicted value\n",
    "X_plot = scaler.transform(df_plot_X) \n",
    "Y_pred_plot = model.predict(X_plot)\n",
    "\n",
    "# Get the MSE value\n",
    "mse = tensorflow.keras.losses.MeanSquaredError()\n",
    "\n",
    "# print out MSE\n",
    "print(\"This company's MSE:\", mse(Y_test_plot.values, Y_pred_plot).numpy())\n",
    "\n",
    "# Plot the time period\n",
    "plt.plot(Y_pred_plot,linestyle=\"\",marker=\"o\", color=\"r\")\n",
    "plt.plot(Y_test_plot.values,linestyle=\"\",marker=\"o\", color=\"g\")\n",
    "plt.xlabel('Day number')\n",
    "plt.ylabel(\"Return\")\n",
    "plt.show()"
   ]
  },
  {
   "cell_type": "markdown",
   "metadata": {},
   "source": [
    "## Comparison models"
   ]
  },
  {
   "cell_type": "code",
   "execution_count": null,
   "metadata": {},
   "outputs": [],
   "source": []
  },
  {
   "cell_type": "code",
   "execution_count": null,
   "metadata": {},
   "outputs": [],
   "source": []
  },
  {
   "cell_type": "code",
   "execution_count": null,
   "metadata": {},
   "outputs": [],
   "source": []
  },
  {
   "cell_type": "code",
   "execution_count": null,
   "metadata": {},
   "outputs": [],
   "source": []
  },
  {
   "cell_type": "code",
   "execution_count": null,
   "metadata": {},
   "outputs": [],
   "source": []
  },
  {
   "cell_type": "code",
   "execution_count": null,
   "metadata": {},
   "outputs": [],
   "source": []
  },
  {
   "cell_type": "code",
   "execution_count": null,
   "metadata": {},
   "outputs": [],
   "source": []
  },
  {
   "cell_type": "code",
   "execution_count": null,
   "metadata": {},
   "outputs": [],
   "source": []
  },
  {
   "cell_type": "code",
   "execution_count": null,
   "metadata": {},
   "outputs": [],
   "source": []
  },
  {
   "cell_type": "code",
   "execution_count": null,
   "metadata": {},
   "outputs": [],
   "source": []
  },
  {
   "cell_type": "code",
   "execution_count": null,
   "metadata": {},
   "outputs": [],
   "source": []
  },
  {
   "cell_type": "code",
   "execution_count": null,
   "metadata": {},
   "outputs": [],
   "source": []
  },
  {
   "cell_type": "code",
   "execution_count": null,
   "metadata": {},
   "outputs": [],
   "source": []
  },
  {
   "cell_type": "code",
   "execution_count": null,
   "metadata": {},
   "outputs": [],
   "source": []
  }
 ],
 "metadata": {
  "interpreter": {
   "hash": "a57df86b14711cdf208872bae9cdec59b94158094464e8ef3b9e0d6af354d00c"
  },
  "kernelspec": {
   "display_name": "Python 3.7.6 ('base')",
   "language": "python",
   "name": "python3"
  },
  "language_info": {
   "codemirror_mode": {
    "name": "ipython",
    "version": 3
   },
   "file_extension": ".py",
   "mimetype": "text/x-python",
   "name": "python",
   "nbconvert_exporter": "python",
   "pygments_lexer": "ipython3",
   "version": "3.7.6"
  },
  "orig_nbformat": 4
 },
 "nbformat": 4,
 "nbformat_minor": 2
}
