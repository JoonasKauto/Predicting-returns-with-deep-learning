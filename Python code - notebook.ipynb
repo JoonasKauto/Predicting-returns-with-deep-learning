{
 "cells": [
  {
   "cell_type": "markdown",
   "metadata": {},
   "source": [
    "# Financial Econometrics Project\n",
    "Author: Joonas Kauto\n",
    "SCIPER: 349328"
   ]
  },
  {
   "cell_type": "code",
   "execution_count": 1,
   "metadata": {},
   "outputs": [],
   "source": [
    "# External libraries\n",
    "import pandas as pd\n",
    "import numpy as np\n",
    "import os\n",
    "import matplotlib.pyplot as plt\n",
    "import tensorflow\n",
    "from keras import models\n",
    "from keras import layers\n",
    "from sklearn.preprocessing import StandardScaler  \n"
   ]
  },
  {
   "cell_type": "markdown",
   "metadata": {},
   "source": [
    "## Data extraction and preparation"
   ]
  },
  {
   "cell_type": "code",
   "execution_count": 2,
   "metadata": {},
   "outputs": [],
   "source": [
    "\n",
    "def read_file(name,datafolder):\n",
    "    \"\"\"\n",
    "    Simple file reading function, might save some lines here and there\n",
    "    \"\"\"\n",
    "    MASTER_DATA_FOLDER = \"jpx-tokyo-stock-exchange-prediction\"\n",
    "    data_folder = os.path.join(os.getcwd(), MASTER_DATA_FOLDER)\n",
    "    folder = os.path.join(data_folder, datafolder)\n",
    "    path = os.path.join(folder,name)\n",
    "    print(path)\n",
    "\n",
    "    df = pd.read_csv(path)\n",
    "    return df"
   ]
  },
  {
   "cell_type": "code",
   "execution_count": 3,
   "metadata": {},
   "outputs": [
    {
     "name": "stdout",
     "output_type": "stream",
     "text": [
      "c:\\Users\\joona\\koodausta\\EPFL\\Fin_Econometrics_EPFL\\project\\jpx-tokyo-stock-exchange-prediction\\train_files\\stock_prices.csv\n"
     ]
    }
   ],
   "source": [
    "# Let's bring in the data!\n",
    "TRAIN_DATA = \"train_files\"\n",
    "# TEST_DATA = \"example_test_files\"\n",
    "df_load = read_file('stock_prices.csv', TRAIN_DATA)"
   ]
  },
  {
   "cell_type": "code",
   "execution_count": 4,
   "metadata": {},
   "outputs": [],
   "source": [
    "\n",
    "# Let's copy it to different dataframe -  if we have problems we dont need to load the data again from the source.\n",
    "df = df_load.copy()\n"
   ]
  },
  {
   "cell_type": "code",
   "execution_count": 5,
   "metadata": {},
   "outputs": [],
   "source": [
    "# Make the date column to datetime.\n",
    "df['Date'] = pd.to_datetime(df['Date'])\n",
    "\n",
    "# Filter out companies who are going to be delisted during the timeperiod:\n",
    "delisted_companies = df[df['SupervisionFlag'] == True]['SecuritiesCode'].unique()\n",
    "df = df[~df['SecuritiesCode'].isin(delisted_companies)]"
   ]
  },
  {
   "cell_type": "code",
   "execution_count": 6,
   "metadata": {},
   "outputs": [
    {
     "data": {
      "text/html": [
       "<div>\n",
       "<style scoped>\n",
       "    .dataframe tbody tr th:only-of-type {\n",
       "        vertical-align: middle;\n",
       "    }\n",
       "\n",
       "    .dataframe tbody tr th {\n",
       "        vertical-align: top;\n",
       "    }\n",
       "\n",
       "    .dataframe thead th {\n",
       "        text-align: right;\n",
       "    }\n",
       "</style>\n",
       "<table border=\"1\" class=\"dataframe\">\n",
       "  <thead>\n",
       "    <tr style=\"text-align: right;\">\n",
       "      <th></th>\n",
       "      <th>RowId</th>\n",
       "      <th>Date</th>\n",
       "      <th>SecuritiesCode</th>\n",
       "      <th>Open</th>\n",
       "      <th>High</th>\n",
       "      <th>Low</th>\n",
       "      <th>Close</th>\n",
       "      <th>Volume</th>\n",
       "    </tr>\n",
       "  </thead>\n",
       "  <tbody>\n",
       "    <tr>\n",
       "      <th>0</th>\n",
       "      <td>20170104_1301</td>\n",
       "      <td>2017-01-04</td>\n",
       "      <td>1301</td>\n",
       "      <td>2734.0</td>\n",
       "      <td>2755.0</td>\n",
       "      <td>2730.0</td>\n",
       "      <td>2742.0</td>\n",
       "      <td>31400</td>\n",
       "    </tr>\n",
       "    <tr>\n",
       "      <th>1</th>\n",
       "      <td>20170104_1332</td>\n",
       "      <td>2017-01-04</td>\n",
       "      <td>1332</td>\n",
       "      <td>568.0</td>\n",
       "      <td>576.0</td>\n",
       "      <td>563.0</td>\n",
       "      <td>571.0</td>\n",
       "      <td>2798500</td>\n",
       "    </tr>\n",
       "    <tr>\n",
       "      <th>2</th>\n",
       "      <td>20170104_1333</td>\n",
       "      <td>2017-01-04</td>\n",
       "      <td>1333</td>\n",
       "      <td>3150.0</td>\n",
       "      <td>3210.0</td>\n",
       "      <td>3140.0</td>\n",
       "      <td>3210.0</td>\n",
       "      <td>270800</td>\n",
       "    </tr>\n",
       "    <tr>\n",
       "      <th>3</th>\n",
       "      <td>20170104_1376</td>\n",
       "      <td>2017-01-04</td>\n",
       "      <td>1376</td>\n",
       "      <td>1510.0</td>\n",
       "      <td>1550.0</td>\n",
       "      <td>1510.0</td>\n",
       "      <td>1550.0</td>\n",
       "      <td>11300</td>\n",
       "    </tr>\n",
       "    <tr>\n",
       "      <th>4</th>\n",
       "      <td>20170104_1377</td>\n",
       "      <td>2017-01-04</td>\n",
       "      <td>1377</td>\n",
       "      <td>3270.0</td>\n",
       "      <td>3350.0</td>\n",
       "      <td>3270.0</td>\n",
       "      <td>3330.0</td>\n",
       "      <td>150800</td>\n",
       "    </tr>\n",
       "    <tr>\n",
       "      <th>...</th>\n",
       "      <td>...</td>\n",
       "      <td>...</td>\n",
       "      <td>...</td>\n",
       "      <td>...</td>\n",
       "      <td>...</td>\n",
       "      <td>...</td>\n",
       "      <td>...</td>\n",
       "      <td>...</td>\n",
       "    </tr>\n",
       "    <tr>\n",
       "      <th>2332526</th>\n",
       "      <td>20211203_9990</td>\n",
       "      <td>2021-12-03</td>\n",
       "      <td>9990</td>\n",
       "      <td>514.0</td>\n",
       "      <td>528.0</td>\n",
       "      <td>513.0</td>\n",
       "      <td>528.0</td>\n",
       "      <td>44200</td>\n",
       "    </tr>\n",
       "    <tr>\n",
       "      <th>2332527</th>\n",
       "      <td>20211203_9991</td>\n",
       "      <td>2021-12-03</td>\n",
       "      <td>9991</td>\n",
       "      <td>782.0</td>\n",
       "      <td>794.0</td>\n",
       "      <td>782.0</td>\n",
       "      <td>794.0</td>\n",
       "      <td>35900</td>\n",
       "    </tr>\n",
       "    <tr>\n",
       "      <th>2332528</th>\n",
       "      <td>20211203_9993</td>\n",
       "      <td>2021-12-03</td>\n",
       "      <td>9993</td>\n",
       "      <td>1690.0</td>\n",
       "      <td>1690.0</td>\n",
       "      <td>1645.0</td>\n",
       "      <td>1645.0</td>\n",
       "      <td>7200</td>\n",
       "    </tr>\n",
       "    <tr>\n",
       "      <th>2332529</th>\n",
       "      <td>20211203_9994</td>\n",
       "      <td>2021-12-03</td>\n",
       "      <td>9994</td>\n",
       "      <td>2388.0</td>\n",
       "      <td>2396.0</td>\n",
       "      <td>2380.0</td>\n",
       "      <td>2389.0</td>\n",
       "      <td>6500</td>\n",
       "    </tr>\n",
       "    <tr>\n",
       "      <th>2332530</th>\n",
       "      <td>20211203_9997</td>\n",
       "      <td>2021-12-03</td>\n",
       "      <td>9997</td>\n",
       "      <td>690.0</td>\n",
       "      <td>711.0</td>\n",
       "      <td>686.0</td>\n",
       "      <td>696.0</td>\n",
       "      <td>381100</td>\n",
       "    </tr>\n",
       "  </tbody>\n",
       "</table>\n",
       "<p>2314501 rows × 8 columns</p>\n",
       "</div>"
      ],
      "text/plain": [
       "                 RowId       Date  SecuritiesCode    Open    High     Low  \\\n",
       "0        20170104_1301 2017-01-04            1301  2734.0  2755.0  2730.0   \n",
       "1        20170104_1332 2017-01-04            1332   568.0   576.0   563.0   \n",
       "2        20170104_1333 2017-01-04            1333  3150.0  3210.0  3140.0   \n",
       "3        20170104_1376 2017-01-04            1376  1510.0  1550.0  1510.0   \n",
       "4        20170104_1377 2017-01-04            1377  3270.0  3350.0  3270.0   \n",
       "...                ...        ...             ...     ...     ...     ...   \n",
       "2332526  20211203_9990 2021-12-03            9990   514.0   528.0   513.0   \n",
       "2332527  20211203_9991 2021-12-03            9991   782.0   794.0   782.0   \n",
       "2332528  20211203_9993 2021-12-03            9993  1690.0  1690.0  1645.0   \n",
       "2332529  20211203_9994 2021-12-03            9994  2388.0  2396.0  2380.0   \n",
       "2332530  20211203_9997 2021-12-03            9997   690.0   711.0   686.0   \n",
       "\n",
       "          Close   Volume  \n",
       "0        2742.0    31400  \n",
       "1         571.0  2798500  \n",
       "2        3210.0   270800  \n",
       "3        1550.0    11300  \n",
       "4        3330.0   150800  \n",
       "...         ...      ...  \n",
       "2332526   528.0    44200  \n",
       "2332527   794.0    35900  \n",
       "2332528  1645.0     7200  \n",
       "2332529  2389.0     6500  \n",
       "2332530   696.0   381100  \n",
       "\n",
       "[2314501 rows x 8 columns]"
      ]
     },
     "execution_count": 6,
     "metadata": {},
     "output_type": "execute_result"
    }
   ],
   "source": [
    "columns_to_keep = ['RowId',\t'Date',\t'SecuritiesCode', 'Open', 'High', 'Low', 'Close', 'Volume']\n",
    "df = df[columns_to_keep]\n",
    "df"
   ]
  },
  {
   "cell_type": "code",
   "execution_count": 7,
   "metadata": {},
   "outputs": [
    {
     "name": "stdout",
     "output_type": "stream",
     "text": [
      "We have 1985 Different securities!\n"
     ]
    }
   ],
   "source": [
    "# Number of companies at this point!\n",
    "len_check_1 = len(df.SecuritiesCode.unique())\n",
    "print(\"We have\", len_check_1, \"Different securities!\")"
   ]
  },
  {
   "cell_type": "code",
   "execution_count": 8,
   "metadata": {},
   "outputs": [],
   "source": [
    "# Now lets develop features into our training data\n",
    "# As you can see, these are derived from past price data only.\n",
    "\n",
    "def feature_generation(df):\n",
    "\n",
    "    \"\"\"\n",
    "    PS = Has the stock price increased or decreased\n",
    "    PSY12 = Psychological line for 12 days (DUP12 / 12) * 100\n",
    "    DU12 = number of dates when price has gone up in 12 days before forecasting date\n",
    "    \n",
    "    MA5 = 5 days moving average\n",
    "    MA10 = 10 days moving average\n",
    "    MA20 = 20 days moving average\n",
    "\n",
    "    OS6 = 6 day return\n",
    "    OS12 = 12 day return\n",
    "\n",
    "    MTM6 = difference between 6 day closing value\n",
    "    MTM12 = difference between 12 day closing value\n",
    "\n",
    "    ASY5 = average stock yield of 5 days before the forecasting day\n",
    "    ASY4 = average stock yield of 4 days before the forecasting day\n",
    "    ASY3 = average stock yield of 3 days before the forecasting day\n",
    "    ASY2 = average stock yield of 2 days before the forecasting day\n",
    "    ASY1 = average stock yield of 1 days before the forecasting day\n",
    "\n",
    "    CL3 = Closing price of 3 days before forecasting date\n",
    "    CL2 = Closing price of 3 days before forecasting date\n",
    "    CL1 = Closing price of 3 days before forecasting date\n",
    "\n",
    "\n",
    "    VOL20_price = Closing price's standard deviation from 20 days\n",
    "\n",
    "    df_i['BOL_UPPER'] = (df_i['Close'] - (df_i['MA20'] + df_i['VOL20_price']*2)) / (df_i['MA20'] + df_i['VOL20_price']*2)\n",
    "    df_i['BOL_LOWER'] = (df_i['Close'] - (df_i['MA20'] - df_i['VOL20_price']*2)) / (df_i['MA20'] - df_i['VOL20_price']*2)\n",
    "    \n",
    "    \"\"\"\n",
    "    # The growth during one trading day\n",
    "    df['DayReturn'] = (df['Close'] - df['Open'])/df['Open']\n",
    "    \n",
    "    def psychological_effect(r):\n",
    "        if r >= 0:\n",
    "            return 1\n",
    "        else:\n",
    "            return 0\n",
    "        \n",
    "    df['PS'] = df.apply(lambda x: psychological_effect(x['DayReturn']),axis=1)\n",
    "\n",
    "    df_temp = pd.DataFrame()\n",
    "\n",
    "    check_time = len(df.SecuritiesCode.unique())\n",
    "    timer = 0\n",
    "    for security in df.SecuritiesCode.unique():\n",
    "        \n",
    "        # Let's look at the data security at time\n",
    "        df_i = df[df['SecuritiesCode'] == security]\n",
    "        df_i = df_i.sort_values(by=\"Date\")\n",
    "\n",
    "        # moving averages\n",
    "        df_i['MA5'] = df_i['Close'].rolling(5).mean()\n",
    "        df_i['MA10'] = df_i['Close'].rolling(10).mean()\n",
    "        df_i['MA20'] = df_i['Close'].rolling(20).mean()\n",
    "\n",
    "        # Bias\n",
    "\n",
    "        df_i['BIAS5'] = (df_i['Close'] - df_i['MA5']) / df_i['MA5']\n",
    "\n",
    "\n",
    "        # The psychology factor\n",
    "        df_i['PS12'] = df_i['PS'].rolling(12).mean()\n",
    "\n",
    "        # Closing values, used in calculations\n",
    "        closing_values = df_i['Close'].values\n",
    "\n",
    "        # Target variable is the (Close price (t+1) - Close price(t)) / Close price (t)\n",
    "        target = (closing_values[1:] - closing_values[:-1]) / closing_values[:-1]\n",
    "        target = np.append(target, np.nan)\n",
    "\n",
    "        df_i['TargetVariable'] = target\n",
    "\n",
    "        # Oscillation values AKA differences between prices\n",
    "        helper = np.array([np.nan,np.nan,np.nan,np.nan,np.nan,np.nan])\n",
    "        big_helper = np.array([np.nan,np.nan,np.nan,np.nan,np.nan,np.nan, np.nan,np.nan,np.nan,np.nan,np.nan,np.nan])\n",
    "        OSC6 = closing_values[6:] / closing_values[:-6]\n",
    "        OSC12 = closing_values[12:] / closing_values[:-12]\n",
    "        OSC6 = np.append(helper, OSC6)\n",
    "        OSC12 = np.append(big_helper, OSC12)\n",
    "        df_i['OSC6'] = OSC6\n",
    "        df_i['OSC12'] = OSC12\n",
    "\n",
    "\n",
    "        # Momentum\n",
    "        MTM6 = closing_values[6:] - closing_values[:-6]\n",
    "        MTM12 = closing_values[12:] - closing_values[:-12]\n",
    "\n",
    "        MTM6 = np.append(helper, MTM6)\n",
    "        MTM12 = np.append(big_helper, MTM12)\n",
    "        df_i['MTM6'] = MTM6\n",
    "        df_i['MTM12'] = MTM12\n",
    "\n",
    "        # Yields\n",
    "        ASY1 = (closing_values[1:] - closing_values[:-1]) / closing_values[:-1]\n",
    "        ASY1 = np.insert(ASY1, 0, np.nan)\n",
    "        df_i['ASY1'] = ASY1\n",
    "        df_i['ASY5'] = df_i['ASY1'].rolling(5).mean()\n",
    "        df_i['ASY4'] = df_i['ASY1'].rolling(4).mean()\n",
    "        df_i['ASY3'] = df_i['ASY1'].rolling(3).mean()\n",
    "        df_i['ASY2'] = df_i['ASY1'].rolling(2).mean()\n",
    "\n",
    "        # Volatilities\n",
    "        df_i['Vol5'] = df_i['ASY1'].rolling(5).std()\n",
    "        df_i['Vol10'] = df_i['ASY1'].rolling(10).std()\n",
    "        df_i['Vol20'] = df_i['ASY1'].rolling(20).std()\n",
    "\n",
    "        # Bollinger bands\n",
    "        df_i['VOL20_price'] = df_i['Close'].rolling(20).std()\n",
    "\n",
    "        df_i['BOL_UPPER'] = (df_i['Close'] - (df_i['MA20'] + df_i['VOL20_price']*2)) / (df_i['MA20'] + df_i['VOL20_price']*2)\n",
    "        df_i['BOL_LOWER'] = (df_i['Close'] - (df_i['MA20'] - df_i['VOL20_price']*2)) / (df_i['MA20'] - df_i['VOL20_price']*2)\n",
    "\n",
    "        if df_temp.empty:\n",
    "            df_temp = df_i\n",
    "        else:\n",
    "            df_temp = df_temp.append(df_i, ignore_index=True)\n",
    "    \n",
    "    return df_temp\n"
   ]
  },
  {
   "cell_type": "code",
   "execution_count": 9,
   "metadata": {},
   "outputs": [],
   "source": [
    "df_features = feature_generation(df)\n"
   ]
  },
  {
   "cell_type": "code",
   "execution_count": 10,
   "metadata": {},
   "outputs": [
    {
     "name": "stdout",
     "output_type": "stream",
     "text": [
      "This should be zero: 0\n"
     ]
    }
   ],
   "source": [
    "# Number of companies at this point!\n",
    "len_check_2 = len(df_features.SecuritiesCode.unique())\n",
    "df_filled = df_features.dropna() # Dropnans\n",
    "len_check_3 = len(df_filled.SecuritiesCode.unique())\n",
    "print(\"This should be zero:\", len_check_2- len_check_3)"
   ]
  },
  {
   "cell_type": "code",
   "execution_count": 11,
   "metadata": {},
   "outputs": [
    {
     "name": "stdout",
     "output_type": "stream",
     "text": [
      "After the day index of 812 which is 2020-06-03T00:00:00.000000000  is the test data.\n"
     ]
    }
   ],
   "source": [
    "# Let's decide the date split\n",
    "N_dates = len(df_filled.Date.unique())\n",
    "n_after_test = int(np.floor(1161 * 0.7))\n",
    "dates_ = df_filled.Date.unique()\n",
    "print(\"After the day index of\", n_after_test, \"which is\", dates_[int(n_after_test)], \" is the test data.\")"
   ]
  },
  {
   "cell_type": "code",
   "execution_count": 29,
   "metadata": {},
   "outputs": [
    {
     "data": {
      "text/plain": [
       "numpy.datetime64('2017-02-02T00:00:00.000000000')"
      ]
     },
     "execution_count": 29,
     "metadata": {},
     "output_type": "execute_result"
    }
   ],
   "source": [
    "dates_[0]\n"
   ]
  },
  {
   "cell_type": "code",
   "execution_count": 12,
   "metadata": {},
   "outputs": [],
   "source": [
    "df_ = df_filled.copy()\n",
    "df_ = df_.sort_values(by=['Date'])\n",
    "df_train = df_.head(n_after_test*len_check_3)\n",
    "df_test = df_.tail((len(dates_) - n_after_test)*len_check_3)\n",
    "\n"
   ]
  },
  {
   "cell_type": "markdown",
   "metadata": {},
   "source": [
    "# Checking the data!"
   ]
  },
  {
   "cell_type": "code",
   "execution_count": 13,
   "metadata": {},
   "outputs": [],
   "source": [
    "df_grouped = df_train.groupby(['Date']).mean()"
   ]
  },
  {
   "cell_type": "code",
   "execution_count": 14,
   "metadata": {},
   "outputs": [
    {
     "data": {
      "image/png": "[encoded data removed]",
      "text/plain": [
       "<Figure size 432x288 with 1 Axes>"
      ]
     },
     "metadata": {
      "needs_background": "light"
     },
     "output_type": "display_data"
    },
    {
     "data": {
      "image/png": "[encoded data removed]",
      "text/plain": [
       "<Figure size 432x288 with 1 Axes>"
      ]
     },
     "metadata": {
      "needs_background": "light"
     },
     "output_type": "display_data"
    }
   ],
   "source": [
    "\n",
    "fig, ax = plt.subplots()\n",
    "ax.plot(df_grouped.index, df_grouped['ASY1'])\n",
    "\n",
    "ax.set(xlabel='Time', ylabel='Return',\n",
    "       title='Average Daily Return')\n",
    "ax.grid()\n",
    "plt.show()\n",
    "\n",
    "fig, ax = plt.subplots()\n",
    "ax.plot(df_grouped.index, df_grouped['Close'])\n",
    "\n",
    "ax.set(xlabel='Time', ylabel='Close Price (Jen)',\n",
    "       title='Average Close Price')\n",
    "ax.grid()\n",
    "plt.show()\n",
    "\n"
   ]
  },
  {
   "cell_type": "code",
   "execution_count": 15,
   "metadata": {},
   "outputs": [
    {
     "data": {
      "image/png": "[encoded data removed]",
      "text/plain": [
       "<Figure size 432x288 with 1 Axes>"
      ]
     },
     "metadata": {
      "needs_background": "light"
     },
     "output_type": "display_data"
    }
   ],
   "source": [
    "import scipy.stats as stats\n",
    "import math\n",
    "\n",
    "fig, ax = plt.subplots()\n",
    "mu = df_train['ASY1'].mean()\n",
    "sigma =  df_train['ASY1'].std()\n",
    "x = np.linspace(mu - 3*sigma, mu + 3*sigma, 100)\n",
    "ax.plot(x, stats.norm.pdf(x, mu, sigma))\n",
    "ax.set(xlabel='Daily Return', ylabel='Density',\n",
    "       title='Distribution of Daily Returs')\n",
    "plt.show()\n",
    "\n"
   ]
  },
  {
   "cell_type": "code",
   "execution_count": 16,
   "metadata": {},
   "outputs": [],
   "source": [
    "# From here on grouped by security\n",
    "df__ = df_train[['Date', 'SecuritiesCode', 'Close', 'ASY1']]\n",
    "df_security_grouped_std = df__.groupby(['SecuritiesCode']).std()\n",
    "df_security_grouped_mean = df__.groupby(['SecuritiesCode']).mean()"
   ]
  },
  {
   "cell_type": "code",
   "execution_count": 34,
   "metadata": {},
   "outputs": [
    {
     "data": {
      "text/plain": [
       "Close    665.075370\n",
       "ASY1       0.045474\n",
       "dtype: float64"
      ]
     },
     "execution_count": 34,
     "metadata": {},
     "output_type": "execute_result"
    }
   ],
   "source": [
    "df_security_grouped_std.mean()"
   ]
  },
  {
   "cell_type": "code",
   "execution_count": 17,
   "metadata": {},
   "outputs": [
    {
     "data": {
      "image/png": "[encoded data removed]",
      "text/plain": [
       "<Figure size 432x288 with 1 Axes>"
      ]
     },
     "metadata": {
      "needs_background": "light"
     },
     "output_type": "display_data"
    },
    {
     "data": {
      "image/png": "[encoded data removed]",
      "text/plain": [
       "<Figure size 432x288 with 1 Axes>"
      ]
     },
     "metadata": {
      "needs_background": "light"
     },
     "output_type": "display_data"
    },
    {
     "data": {
      "image/png": "[encoded data removed]",
      "text/plain": [
       "<Figure size 432x288 with 1 Axes>"
      ]
     },
     "metadata": {
      "needs_background": "light"
     },
     "output_type": "display_data"
    }
   ],
   "source": [
    "vols = df_security_grouped_std['ASY1']*np.sqrt(252)\n",
    "means_returns = df_security_grouped_mean['ASY1']*252\n",
    "fig, ax = plt.subplots()\n",
    "ax.scatter(vols,  means_returns)\n",
    "ax.set(xlabel='Annualized Volatility', ylabel='Annualized Daily Return',\n",
    "       title='Return and Volatility')\n",
    "plt.show()\n",
    "\n",
    "fig, ax = plt.subplots()\n",
    "ax.hist(means_returns, bins=1000)\n",
    "ax.set(xlabel='Annualized Return', ylabel='Frequency',\n",
    "       title='Annualized Return')\n",
    "plt.xlim(-1, 3)\n",
    "plt.show()\n",
    "\n",
    "fig, ax = plt.subplots()\n",
    "ax.hist(vols, bins=1000)\n",
    "ax.set(xlabel='Volatility', ylabel='Frequency',\n",
    "       title='Annualized Volatility')\n",
    "plt.xlim(0, 2)\n",
    "plt.show()\n"
   ]
  },
  {
   "cell_type": "code",
   "execution_count": 18,
   "metadata": {},
   "outputs": [
    {
     "name": "stdout",
     "output_type": "stream",
     "text": [
      "Mean one day return: 0.001036722283111171\n"
     ]
    }
   ],
   "source": [
    "print(\"Mean one day return:\", df_train['ASY1'].mean())\n"
   ]
  },
  {
   "cell_type": "markdown",
   "metadata": {},
   "source": [
    "### standardizing our features\n"
   ]
  },
  {
   "cell_type": "code",
   "execution_count": 19,
   "metadata": {},
   "outputs": [],
   "source": [
    "feature_columns = [ 'Open', 'High', 'Low', 'Close',\n",
    "       'Volume', 'DayReturn', 'PS', 'MA5', 'MA10', 'MA20', 'BIAS5',\n",
    "       'PS12', 'OSC6', 'OSC12', 'MTM6', 'MTM12', 'ASY1',\n",
    "       'ASY5', 'ASY4', 'ASY3', 'ASY2', 'Vol5', 'Vol10', 'Vol20', 'VOL20_price',\n",
    "       'BOL_UPPER', 'BOL_LOWER']\n",
    "\n",
    "# Split the data and filter out useless columns.\n",
    "test = df_test[feature_columns]\n",
    "train = df_train[feature_columns]\n",
    "Y_train = df_train[['TargetVariable']]\n",
    "Y_test = df_test[['TargetVariable']]"
   ]
  },
  {
   "cell_type": "code",
   "execution_count": 20,
   "metadata": {},
   "outputs": [],
   "source": [
    "# Lets standardize our parameters.\n",
    "from sklearn.preprocessing import StandardScaler  \n",
    "scaler = StandardScaler()  \n",
    "\n",
    "# Don't cheat - fit only on training data\n",
    "scaler.fit(train.dropna())  \n",
    "\n",
    "X_train = scaler.transform(train.dropna())  \n",
    "\n",
    "# apply same transformation to test data\n",
    "X_test = scaler.transform(test)  "
   ]
  },
  {
   "cell_type": "code",
   "execution_count": 21,
   "metadata": {},
   "outputs": [
    {
     "data": {
      "image/png": "[encoded data removed]",
      "text/plain": [
       "<Figure size 288x288 with 2 Axes>"
      ]
     },
     "metadata": {
      "needs_background": "light"
     },
     "output_type": "display_data"
    }
   ],
   "source": [
    "def show_heatmap(data):\n",
    "    plt.matshow(data.corr())\n",
    "    plt.xticks(range(data.shape[1]), data.columns, fontsize=6, rotation=90)\n",
    "    plt.gca().xaxis.tick_bottom()\n",
    "    plt.yticks(range(data.shape[1]), data.columns, fontsize=6)\n",
    "\n",
    "    cb = plt.colorbar()\n",
    "    cb.ax.tick_params(labelsize=8)\n",
    "    plt.title(\"Feature Correlation Heatmap\", fontsize=10)\n",
    "    plt.show()\n",
    "\n",
    "\n",
    "show_heatmap(pd.DataFrame(X_train))"
   ]
  },
  {
   "cell_type": "markdown",
   "metadata": {},
   "source": [
    "# The actual model"
   ]
  },
  {
   "cell_type": "code",
   "execution_count": 22,
   "metadata": {},
   "outputs": [],
   "source": [
    "# A function used for measuring errors\n",
    "\n",
    "def check_error_rates(Y_pred, Y_test):\n",
    "    mae = tensorflow.keras.losses.MeanAbsoluteError()\n",
    "    mse = tensorflow.keras.losses.MeanSquaredError()\n",
    "    mae_result = mae(Y_test, Y_pred).numpy()\n",
    "\n",
    "    mse_result = mse(Y_test, Y_pred).numpy()\n",
    "    \n",
    "    return(mse_result, mae_result)\n"
   ]
  },
  {
   "cell_type": "code",
   "execution_count": 40,
   "metadata": {},
   "outputs": [
    {
     "name": "stdout",
     "output_type": "stream",
     "text": [
      "Epoch 1/10\n",
      "84833/84833 [==============================] - 228s 3ms/step - loss: 0.0279 - val_loss: 0.0023\n",
      "Epoch 2/10\n",
      "84833/84833 [==============================] - 244s 3ms/step - loss: 0.0073 - val_loss: 0.0013\n",
      "Epoch 3/10\n",
      "84833/84833 [==============================] - 245s 3ms/step - loss: 0.0069 - val_loss: 0.0012\n",
      "Epoch 4/10\n",
      "84833/84833 [==============================] - 255s 3ms/step - loss: 0.0069 - val_loss: 0.0011\n",
      "Epoch 5/10\n",
      "84833/84833 [==============================] - 198s 2ms/step - loss: 0.0068 - val_loss: 0.0011\n",
      "Epoch 6/10\n",
      "84833/84833 [==============================] - 220s 3ms/step - loss: 0.0068 - val_loss: 0.0011\n",
      "Epoch 7/10\n",
      "84833/84833 [==============================] - 293s 3ms/step - loss: 0.0068 - val_loss: 0.0011\n",
      "Epoch 8/10\n",
      "84833/84833 [==============================] - 171s 2ms/step - loss: 0.0068 - val_loss: 0.0011\n",
      "Epoch 9/10\n",
      "84833/84833 [==============================] - 196s 2ms/step - loss: 0.0068 - val_loss: 0.0011\n",
      "Epoch 10/10\n",
      "84833/84833 [==============================] - 174s 2ms/step - loss: 0.0068 - val_loss: 0.0011\n"
     ]
    }
   ],
   "source": [
    "model = models.Sequential()\n",
    "model.add(layers.Dense(27, input_dim=27))\n",
    "model.add(layers.Dense(14, activation='relu'))\n",
    "model.add(layers.Dense(7, activation='relu'))\n",
    "model.add(layers.Dense(1))\n",
    "# Compile model\n",
    "model.compile(optimizer=tensorflow.keras.optimizers.SGD(learning_rate=0.0001), loss='mean_squared_error')\n",
    "# Fit the mode\n",
    "history= model.fit(X_train, Y_train, validation_data=(X_test,Y_test), epochs=10, batch_size=19, verbose=True)"
   ]
  },
  {
   "cell_type": "code",
   "execution_count": 41,
   "metadata": {},
   "outputs": [
    {
     "name": "stdout",
     "output_type": "stream",
     "text": [
      "MSE: 0.00107337 MAE: 0.01645612\n"
     ]
    }
   ],
   "source": [
    "Y_pred = model.predict(X_test)\n",
    "mse_main, mae_main = check_error_rates(Y_pred, Y_test)\n",
    "print(\"MSE:\", mse_main, \"MAE:\", mae_main)"
   ]
  },
  {
   "cell_type": "code",
   "execution_count": 42,
   "metadata": {},
   "outputs": [
    {
     "data": {
      "text/plain": [
       "[<matplotlib.lines.Line2D at 0x22a395aa508>]"
      ]
     },
     "execution_count": 42,
     "metadata": {},
     "output_type": "execute_result"
    },
    {
     "data": {
      "image/png": "[encoded data removed]",
      "text/plain": [
       "<Figure size 432x288 with 1 Axes>"
      ]
     },
     "metadata": {
      "needs_background": "light"
     },
     "output_type": "display_data"
    }
   ],
   "source": [
    "plt.xlabel('Epoch Number')\n",
    "plt.ylabel(\"Loss Magnitude\")\n",
    "plt.plot(history.history['loss'])\n",
    "plt.plot(history.history['val_loss'])"
   ]
  },
  {
   "cell_type": "code",
   "execution_count": 38,
   "metadata": {},
   "outputs": [
    {
     "name": "stdout",
     "output_type": "stream",
     "text": [
      "This company's MSE: 0.0010796657\n"
     ]
    },
    {
     "data": {
      "image/png": "[encoded data removed]",
      "text/plain": [
       "<Figure size 432x288 with 1 Axes>"
      ]
     },
     "metadata": {
      "needs_background": "light"
     },
     "output_type": "display_data"
    }
   ],
   "source": [
    "# Let's plot of a randomly selected security's price development for the test period and our prediction of the price development.\n",
    "sec = df_test.SecuritiesCode.unique()[23]\n",
    "df_plot_X = df_test[df_test['SecuritiesCode'] == sec][feature_columns]\n",
    "Y_test_plot = df_test[df_test['SecuritiesCode'] == sec]['TargetVariable']\n",
    "X_plot = scaler.transform(df_plot_X) \n",
    "\n",
    "Y_pred_plot = model.predict(X_plot)\n",
    "mse = tensorflow.keras.losses.MeanSquaredError()\n",
    "print(\"This company's MSE:\", mse(Y_test_plot.values, Y_pred_plot).numpy())\n",
    "# Plot the time period\n",
    "plt.plot(Y_pred_plot,linestyle=\"\",marker=\"o\", color=\"r\")\n",
    "plt.plot(Y_test_plot.values,linestyle=\"\",marker=\"o\", color=\"g\")\n",
    "plt.xlabel('Day number')\n",
    "plt.ylabel(\"Return\")\n",
    "plt.show()"
   ]
  },
  {
   "cell_type": "markdown",
   "metadata": {},
   "source": [
    "## Comparison models"
   ]
  },
  {
   "cell_type": "code",
   "execution_count": null,
   "metadata": {},
   "outputs": [
    {
     "name": "stdout",
     "output_type": "stream",
     "text": [
      "Epoch 1/5\n",
      "84833/84833 [==============================] - 177s 2ms/step - loss: 0.0089 - val_loss: 0.0016\n",
      "Epoch 2/5\n",
      "84833/84833 [==============================] - 209s 2ms/step - loss: 0.0072 - val_loss: 0.0014\n",
      "Epoch 3/5\n",
      "84833/84833 [==============================] - 221s 3ms/step - loss: 0.0070 - val_loss: 0.0013\n",
      "Epoch 4/5\n",
      "84833/84833 [==============================] - 188s 2ms/step - loss: 0.0070 - val_loss: 0.0013\n",
      "Epoch 5/5\n",
      "84833/84833 [==============================] - 173s 2ms/step - loss: 0.0069 - val_loss: 0.0013\n"
     ]
    }
   ],
   "source": [
    "# First comparison model:\n",
    "# THe same model with higher batch size and Tanh\n",
    "model_comparison_1 = models.Sequential()\n",
    "model_comparison_1.add(layers.Dense(27, input_dim=27))\n",
    "model_comparison_1.add(layers.Dense(200, activation='tanh'))\n",
    "model_comparison_1.add(layers.Dense(200, activation='tanh'))\n",
    "model_comparison_1.add(layers.Dense(1))\n",
    "# Compile model\n",
    "model_comparison_1.compile(optimizer=tensorflow.keras.optimizers.SGD(learning_rate=0.0001), loss='mean_squared_error')\n",
    "# Fit the model\n",
    "history_comparison_1 = model_comparison_1.fit(X_train, Y_train, validation_data=(X_test,Y_test), epochs=5, batch_size=19, verbose=True)"
   ]
  },
  {
   "cell_type": "code",
   "execution_count": null,
   "metadata": {},
   "outputs": [
    {
     "name": "stdout",
     "output_type": "stream",
     "text": [
      "MSE: 0.0012627472 MAE: 0.018336283\n"
     ]
    }
   ],
   "source": [
    "Y_pred_c1 = model_comparison_1.predict(X_test)\n",
    "mse_c1, mae_c1 = check_error_rates(Y_pred_c1, Y_test)\n",
    "print(\"MSE:\", mse_c1, \"MAE:\", mae_c1)"
   ]
  },
  {
   "cell_type": "code",
   "execution_count": null,
   "metadata": {},
   "outputs": [
    {
     "name": "stdout",
     "output_type": "stream",
     "text": [
      "Epoch 1/5\n",
      "84833/84833 [==============================] - 165s 2ms/step - loss: 0.0122 - val_loss: 0.0023\n",
      "Epoch 2/5\n",
      "84833/84833 [==============================] - 164s 2ms/step - loss: 0.0079 - val_loss: 0.0019\n",
      "Epoch 3/5\n",
      "84833/84833 [==============================] - 163s 2ms/step - loss: 0.0074 - val_loss: 0.0017\n",
      "Epoch 4/5\n",
      "84833/84833 [==============================] - 165s 2ms/step - loss: 0.0073 - val_loss: 0.0016\n",
      "Epoch 5/5\n",
      "84833/84833 [==============================] - 167s 2ms/step - loss: 0.0072 - val_loss: 0.0015\n"
     ]
    }
   ],
   "source": [
    "# High batch size\n",
    "model_comparison_x = models.Sequential()\n",
    "model_comparison_x.add(layers.Dense(27, input_dim=27))\n",
    "model_comparison_x.add(layers.Dense(200, activation='relu'))\n",
    "model_comparison_x.add(layers.Dense(200, activation='relu'))\n",
    "model_comparison_x.add(layers.Dense(1))\n",
    "# Compile model\n",
    "model_comparison_x.compile(optimizer=tensorflow.keras.optimizers.SGD(learning_rate=0.0001), loss='mean_squared_error')\n",
    "# Fit the model\n",
    "history_comparison_x = model_comparison_x.fit(X_train, Y_train, validation_data=(X_test,Y_test), epochs=5, batch_size=19, verbose=True)"
   ]
  },
  {
   "cell_type": "code",
   "execution_count": null,
   "metadata": {},
   "outputs": [
    {
     "name": "stdout",
     "output_type": "stream",
     "text": [
      "MSE: 0.0015439045 MAE: 0.022613522\n"
     ]
    }
   ],
   "source": [
    "Y_pred_cx = model_comparison_x.predict(X_test)\n",
    "mse_cx, mae_cx = check_error_rates(Y_pred_cx, Y_test)\n",
    "print(\"MSE:\", mse_cx, \"MAE:\", mae_cx)"
   ]
  },
  {
   "cell_type": "code",
   "execution_count": null,
   "metadata": {},
   "outputs": [
    {
     "name": "stdout",
     "output_type": "stream",
     "text": [
      "Epoch 1/10\n",
      "6397/6397 [==============================] - 9s 1ms/step - loss: 0.0592 - val_loss: 0.0194\n",
      "Epoch 2/10\n",
      "6397/6397 [==============================] - 9s 1ms/step - loss: 0.0226 - val_loss: 0.0130\n",
      "Epoch 3/10\n",
      "6397/6397 [==============================] - 10s 1ms/step - loss: 0.0182 - val_loss: 0.0104\n",
      "Epoch 4/10\n",
      "6397/6397 [==============================] - 10s 1ms/step - loss: 0.0161 - val_loss: 0.0089\n",
      "Epoch 5/10\n",
      "6397/6397 [==============================] - 10s 1ms/step - loss: 0.0148 - val_loss: 0.0078\n",
      "Epoch 6/10\n",
      "6397/6397 [==============================] - 10s 1ms/step - loss: 0.0138 - val_loss: 0.0070\n",
      "Epoch 7/10\n",
      "6397/6397 [==============================] - 10s 2ms/step - loss: 0.0130 - val_loss: 0.0063\n",
      "Epoch 8/10\n",
      "6397/6397 [==============================] - 9s 1ms/step - loss: 0.0124 - val_loss: 0.0058\n",
      "Epoch 9/10\n",
      "6397/6397 [==============================] - 10s 2ms/step - loss: 0.0118 - val_loss: 0.0054\n",
      "Epoch 10/10\n",
      "6397/6397 [==============================] - 10s 2ms/step - loss: 0.0114 - val_loss: 0.0051\n"
     ]
    }
   ],
   "source": [
    "# Model with only tanh as a activation function\n",
    "model_comparison_2 = models.Sequential()\n",
    "model_comparison_2.add(layers.Dense(27, input_dim=27))\n",
    "model_comparison_2.add(layers.Dense(14, activation='tanh'))\n",
    "model_comparison_2.add(layers.Dense(7, activation='tanh'))\n",
    "model_comparison_2.add(layers.Dense(1))\n",
    "# Compile model\n",
    "model_comparison_2.compile(optimizer=tensorflow.keras.optimizers.SGD(learning_rate=0.0001), loss='mean_squared_error')\n",
    "# Fit the model\n",
    "history_comparison_2 = model_comparison_2.fit(X_train, Y_train, validation_data=(X_test,Y_test), epochs=10, batch_size=252, verbose=True)"
   ]
  },
  {
   "cell_type": "code",
   "execution_count": null,
   "metadata": {},
   "outputs": [
    {
     "name": "stdout",
     "output_type": "stream",
     "text": [
      "MSE: 0.0012627472 MAE: 0.018336283\n"
     ]
    }
   ],
   "source": [
    "Y_pred_c2 = model_comparison_2.predict(X_test)\n",
    "mse_c2, mae_c2 = check_error_rates(Y_pred_c1, Y_test)\n",
    "print(\"MSE:\", mse_c2, \"MAE:\", mae_c2)"
   ]
  },
  {
   "cell_type": "code",
   "execution_count": null,
   "metadata": {},
   "outputs": [
    {
     "name": "stdout",
     "output_type": "stream",
     "text": [
      "Epoch 1/10\n",
      "6397/6397 [==============================] - 9s 1ms/step - loss: 0.0619 - val_loss: 0.0184\n",
      "Epoch 2/10\n",
      "6397/6397 [==============================] - 9s 1ms/step - loss: 0.0251 - val_loss: 0.0113\n",
      "Epoch 3/10\n",
      "6397/6397 [==============================] - 10s 2ms/step - loss: 0.0189 - val_loss: 0.0086\n",
      "Epoch 4/10\n",
      "6397/6397 [==============================] - 10s 2ms/step - loss: 0.0161 - val_loss: 0.0071\n",
      "Epoch 5/10\n",
      "6397/6397 [==============================] - 10s 2ms/step - loss: 0.0145 - val_loss: 0.0062\n",
      "Epoch 6/10\n",
      "6397/6397 [==============================] - 10s 2ms/step - loss: 0.0134 - val_loss: 0.0056\n",
      "Epoch 7/10\n",
      "6397/6397 [==============================] - 10s 2ms/step - loss: 0.0126 - val_loss: 0.0051\n",
      "Epoch 8/10\n",
      "6397/6397 [==============================] - 10s 2ms/step - loss: 0.0120 - val_loss: 0.0047\n",
      "Epoch 9/10\n",
      "6397/6397 [==============================] - 10s 2ms/step - loss: 0.0115 - val_loss: 0.0044\n",
      "Epoch 10/10\n",
      "6397/6397 [==============================] - 10s 2ms/step - loss: 0.0112 - val_loss: 0.0042\n"
     ]
    }
   ],
   "source": [
    "# model with Relu and sigmoid activation functions.\n",
    "# 3 layers\n",
    "model_comparison_3 = models.Sequential()\n",
    "model_comparison_3.add(layers.Dense(27, input_dim=27))\n",
    "model_comparison_3.add(layers.Dense(14, activation='relu'))\n",
    "model_comparison_3.add(layers.Dense(7, activation='relu'))\n",
    "model_comparison_3.add(layers.Dense(1))\n",
    "# Compile model\n",
    "model_comparison_3.compile(optimizer=tensorflow.keras.optimizers.SGD(learning_rate=0.0001), loss='mean_squared_error')\n",
    "# Fit the model\n",
    "history_comparison_3 = model_comparison_3.fit(X_train, Y_train, validation_data=(X_test,Y_test), epochs=10, batch_size=252, verbose=True)"
   ]
  },
  {
   "cell_type": "code",
   "execution_count": null,
   "metadata": {},
   "outputs": [
    {
     "name": "stdout",
     "output_type": "stream",
     "text": [
      "MSE: 0.004215946 MAE: 0.040912908\n"
     ]
    }
   ],
   "source": [
    "Y_pred_c3 = model_comparison_3.predict(X_test)\n",
    "mse_c3, mae_c3 = check_error_rates(Y_pred_c3, Y_test)\n",
    "print(\"MSE:\", mse_c3, \"MAE:\", mae_c3)"
   ]
  },
  {
   "cell_type": "code",
   "execution_count": null,
   "metadata": {},
   "outputs": [
    {
     "name": "stdout",
     "output_type": "stream",
     "text": [
      "Epoch 1/10\n",
      "84833/84833 [==============================] - 124s 1ms/step - loss: 0.0128 - val_loss: 0.0038\n",
      "Epoch 2/10\n",
      "84833/84833 [==============================] - 130s 2ms/step - loss: 0.0089 - val_loss: 0.0029\n",
      "Epoch 3/10\n",
      "84833/84833 [==============================] - 134s 2ms/step - loss: 0.0084 - val_loss: 0.0025\n",
      "Epoch 4/10\n",
      "84833/84833 [==============================] - 110s 1ms/step - loss: 0.0080 - val_loss: 0.0022\n",
      "Epoch 5/10\n",
      "84833/84833 [==============================] - 105s 1ms/step - loss: 0.0078 - val_loss: 0.0021\n",
      "Epoch 6/10\n",
      "84833/84833 [==============================] - 104s 1ms/step - loss: 0.0077 - val_loss: 0.0019\n",
      "Epoch 7/10\n",
      "84833/84833 [==============================] - 106s 1ms/step - loss: 0.0075 - val_loss: 0.0018\n",
      "Epoch 8/10\n",
      "84833/84833 [==============================] - 106s 1ms/step - loss: 0.0074 - val_loss: 0.0017\n",
      "Epoch 9/10\n",
      "84833/84833 [==============================] - 105s 1ms/step - loss: 0.0074 - val_loss: 0.0016\n",
      "Epoch 10/10\n",
      "84833/84833 [==============================] - 103s 1ms/step - loss: 0.0073 - val_loss: 0.0016\n"
     ]
    }
   ],
   "source": [
    "# model with Relu and sigmoid activation functions.\n",
    "# 2 layers\n",
    "model_comparison_4 = models.Sequential()\n",
    "model_comparison_4.add(layers.Dense(27, input_dim=27))\n",
    "model_comparison_4.add(layers.Dense(14, activation='tanh'))\n",
    "model_comparison_4.add(layers.Dense(1))\n",
    "# Compile model\n",
    "model_comparison_4.compile(optimizer=tensorflow.keras.optimizers.SGD(learning_rate=0.0001), loss='mean_squared_error')\n",
    "# Fit the model\n",
    "history_comparison_4 = model_comparison_4.fit(X_train, Y_train, validation_data=(X_test,Y_test), epochs=10, batch_size=19, verbose=True)"
   ]
  },
  {
   "cell_type": "code",
   "execution_count": null,
   "metadata": {},
   "outputs": [
    {
     "name": "stdout",
     "output_type": "stream",
     "text": [
      "MSE: 0.0015767153 MAE: 0.020903308\n"
     ]
    },
    {
     "data": {
      "text/plain": [
       "[<matplotlib.lines.Line2D at 0x1265d599608>]"
      ]
     },
     "execution_count": 36,
     "metadata": {},
     "output_type": "execute_result"
    },
    {
     "data": {
      "image/png": "[encoded data removed]",
      "text/plain": [
       "<Figure size 432x288 with 1 Axes>"
      ]
     },
     "metadata": {
      "needs_background": "light"
     },
     "output_type": "display_data"
    }
   ],
   "source": [
    "Y_pred_c4 = model_comparison_4.predict(X_test)\n",
    "mse_c4, mae_c4 = check_error_rates(Y_pred_c4, Y_test)\n",
    "print(\"MSE:\", mse_c4, \"MAE:\", mae_c4)\n",
    "\n",
    "plt.xlabel('Epoch Number')\n",
    "plt.ylabel(\"Loss Magnitude\")\n",
    "plt.plot(history_comparison_4.history['loss'])\n",
    "plt.plot(history_comparison_4.history['val_loss'])"
   ]
  },
  {
   "cell_type": "code",
   "execution_count": null,
   "metadata": {},
   "outputs": [
    {
     "name": "stdout",
     "output_type": "stream",
     "text": [
      "Epoch 1/5\n",
      "84833/84833 [==============================] - 103s 1ms/step - loss: 0.1635 - val_loss: 0.0442\n",
      "Epoch 2/5\n",
      "84833/84833 [==============================] - 102s 1ms/step - loss: 0.0430 - val_loss: 0.0200\n",
      "Epoch 3/5\n",
      "84833/84833 [==============================] - 103s 1ms/step - loss: 0.0236 - val_loss: 0.0117\n",
      "Epoch 4/5\n",
      "84833/84833 [==============================] - 100s 1ms/step - loss: 0.0161 - val_loss: 0.0078\n",
      "Epoch 5/5\n",
      "84833/84833 [==============================] - 102s 1ms/step - loss: 0.0125 - val_loss: 0.0057\n"
     ]
    }
   ],
   "source": [
    "# Model with only one ReLu layer\n",
    "# used for comparing the most simple model possible.\n",
    "model_one_layer = models.Sequential()\n",
    "model_one_layer.add(layers.Dense(27, input_dim=27, activation='relu'))\n",
    "\n",
    "# Compile model\n",
    "model_one_layer.compile(optimizer=tensorflow.keras.optimizers.SGD(learning_rate=0.0001), loss='mean_squared_error')\n",
    "# Fit the model\n",
    "history_one_layer = model_one_layer.fit(X_train, Y_train, validation_data=(X_test,Y_test), epochs=5, batch_size=19, verbose=True)"
   ]
  },
  {
   "cell_type": "code",
   "execution_count": null,
   "metadata": {},
   "outputs": [
    {
     "name": "stdout",
     "output_type": "stream",
     "text": [
      "MSE: 0.0057249214 MAE: 0.031723298\n"
     ]
    }
   ],
   "source": [
    "Y_pred_one_layer = model_one_layer.predict(X_test)\n",
    "mse_one_layer, mae_one_layer = check_error_rates(Y_pred_one_layer, Y_test)\n",
    "print(\"MSE:\", mse_one_layer, \"MAE:\", mae_one_layer)"
   ]
  },
  {
   "cell_type": "code",
   "execution_count": null,
   "metadata": {},
   "outputs": [
    {
     "name": "stdout",
     "output_type": "stream",
     "text": [
      "Epoch 1/10\n",
      "84833/84833 [==============================] - 111s 1ms/step - loss: 0.0097 - val_loss: 0.0011\n",
      "Epoch 2/10\n",
      "84833/84833 [==============================] - 144s 2ms/step - loss: 0.0068 - val_loss: 0.0011\n",
      "Epoch 3/10\n",
      "84833/84833 [==============================] - 187s 2ms/step - loss: 0.0067 - val_loss: 0.0011\n",
      "Epoch 4/10\n",
      "84833/84833 [==============================] - 196s 2ms/step - loss: 0.0067 - val_loss: 0.0011\n",
      "Epoch 5/10\n",
      "84833/84833 [==============================] - 336s 4ms/step - loss: 0.0067 - val_loss: 0.0011\n",
      "Epoch 6/10\n",
      "84833/84833 [==============================] - 465s 5ms/step - loss: 0.0067 - val_loss: 0.0011\n",
      "Epoch 7/10\n",
      "84833/84833 [==============================] - 479s 6ms/step - loss: 0.0067 - val_loss: 0.0011\n",
      "Epoch 8/10\n",
      "84833/84833 [==============================] - 13633s 161ms/step - loss: 0.0067 - val_loss: 0.0011\n",
      "Epoch 9/10\n",
      "84833/84833 [==============================] - 486s 6ms/step - loss: 0.0067 - val_loss: 0.0011\n",
      "Epoch 10/10\n",
      "84833/84833 [==============================] - 479s 6ms/step - loss: 0.0067 - val_loss: 0.0011\n"
     ]
    }
   ],
   "source": [
    "# Here you can see that the model we used earlier stops advancing with more epochs.\n",
    "# Nothing to see here, the model does not perform better adter epoch 5.\n",
    "model_with_10_epochs = models.Sequential()\n",
    "model_with_10_epochs.add(layers.Dense(27, input_dim=27, activation='tanh'))\n",
    "model_with_10_epochs.add(layers.Dense(14, activation='tanh'))\n",
    "model_with_10_epochs.add(layers.Dense(7, activation='tanh'))\n",
    "model_with_10_epochs.add(layers.Dense(1, activation='relu'))\n",
    "# Compile model\n",
    "model_with_10_epochs.compile(optimizer=tensorflow.keras.optimizers.SGD(learning_rate=0.0001), loss='mean_squared_error')\n",
    "# Fit the model\n",
    "model_with_10_epochs = model_with_10_epochs.fit(X_train, Y_train, validation_data=(X_test,Y_test), epochs=10, batch_size=19, verbose=True)"
   ]
  },
  {
   "cell_type": "code",
   "execution_count": null,
   "metadata": {},
   "outputs": [
    {
     "name": "stdout",
     "output_type": "stream",
     "text": [
      "MSE: 0.001049609505571425 MAE: 0.016164006665349007\n"
     ]
    }
   ],
   "source": [
    "train_target_mean = df_train['TargetVariable'].mean()\n",
    "df_check_prediction_with_mean = df_test.copy()\n",
    "df_check_prediction_with_mean['TrainMean'] = train_target_mean\n",
    "df_check_prediction_with_mean\n",
    "\n",
    "\n",
    "mse_one_layer, mae_one_layer = check_error_rates(df_check_prediction_with_mean[['TrainMean']], df_check_prediction_with_mean[['TargetVariable']])\n",
    "print(\"MSE:\", mse_one_layer, \"MAE:\", mae_one_layer)"
   ]
  }
 ],
 "metadata": {
  "interpreter": {
   "hash": "a57df86b14711cdf208872bae9cdec59b94158094464e8ef3b9e0d6af354d00c"
  },
  "kernelspec": {
   "display_name": "Python 3.7.6 ('base')",
   "language": "python",
   "name": "python3"
  },
  "language_info": {
   "codemirror_mode": {
    "name": "ipython",
    "version": 3
   },
   "file_extension": ".py",
   "mimetype": "text/x-python",
   "name": "python",
   "nbconvert_exporter": "python",
   "pygments_lexer": "ipython3",
   "version": "3.7.6"
  },
  "orig_nbformat": 4
 },
 "nbformat": 4,
 "nbformat_minor": 2
}
